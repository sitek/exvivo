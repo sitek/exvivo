{
 "cells": [
  {
   "cell_type": "markdown",
   "metadata": {},
   "source": [
    "Investigate auditory pathway in subcortical ex vivo sample. Based on CST work (Farquharson etc)"
   ]
  },
  {
   "cell_type": "markdown",
   "metadata": {},
   "source": [
    "The script is largely based on nipype's dmri_mrtrix_dti.py, copied from http://nipy.sourceforge.net/nipype/users/examples/dmri_mrtrix_dti.html\n"
   ]
  },
  {
   "cell_type": "code",
   "execution_count": 11,
   "metadata": {
    "collapsed": false
   },
   "outputs": [],
   "source": [
    "import nipype.interfaces.io as nio           # Data i/o\n",
    "import nipype.interfaces.utility as util     # utility\n",
    "import nipype.pipeline.engine as pe          # pypeline engine\n",
    "import nipype.interfaces.mrtrix as mrtrix   #<---- The important new part!\n",
    "import nipype.interfaces.fsl as fsl\n",
    "import nipype.algorithms.misc as misc\n",
    "import os\n",
    "\n",
    "from dipy.tracking.utils import move_streamlines\n",
    "global move_streamlines\n",
    "\n",
    "from nipype.interfaces.base import CommandLine\n",
    "CommandLine.set_default_terminal_output('none')\n",
    "\n",
    "fsl.FSLCommand.set_default_output_type('NIFTI')"
   ]
  },
  {
   "cell_type": "code",
   "execution_count": 12,
   "metadata": {
    "collapsed": false
   },
   "outputs": [],
   "source": [
    "project_dir = os.path.abspath('/Users/kevinsitek/om/om/user/ksitek/exvivo/')\n",
    "data_dir = os.path.join(project_dir,'data/')\n",
    "out_dir = os.path.join(project_dir,'analysis')"
   ]
  },
  {
   "cell_type": "code",
   "execution_count": 18,
   "metadata": {
    "collapsed": false
   },
   "outputs": [],
   "source": [
    "if ~os.path.isdir(data_dir):\n",
    "    os.system(\"sshfs ~/om ksitek@openmind.mit.edu:/om\")"
   ]
  },
  {
   "cell_type": "code",
   "execution_count": 13,
   "metadata": {
    "collapsed": false
   },
   "outputs": [],
   "source": [
    "subject_list = ['Reg_S64550']"
   ]
  },
  {
   "cell_type": "code",
   "execution_count": 30,
   "metadata": {
    "collapsed": false
   },
   "outputs": [],
   "source": [
    "\n",
    "\"\"\"\n",
    "Use infosource node to loop through the subject list and define the input files.\n",
    "For our purposes, these are the diffusion-weighted MR image, b vectors, and b values.\n",
    "\"\"\"\n",
    "\n",
    "infosource = pe.Node(interface=util.IdentityInterface(fields=['subject_id']), name=\"infosource\")\n",
    "infosource.iterables = ('subject_id', subject_list)\n",
    "\n",
    "info = dict(dwi=[['subject_id']],\n",
    "            bvecs=[['camino_120_RAS.bvecs']],\n",
    "            bvals=[['camino_120_RAS.bvals']])\n",
    "\n",
    "\"\"\"\n",
    "Use datasource node to perform the actual data grabbing.\n",
    "Templates for the associated images are used to obtain the correct images.\n",
    "\"\"\"\n",
    "\n",
    "datasource = pe.Node(interface=nio.DataGrabber(infields=['subject_id'],\n",
    "                                               outfields=info.keys()),\n",
    "                     name = 'datasource')\n",
    "\n",
    "datasource.inputs.template = \"%s\"\n",
    "datasource.inputs.base_directory = data_dir\n",
    "datasource.inputs.field_template = dict(dwi='%s_nii4d.nii.gz')\n",
    "datasource.inputs.template_args = info\n",
    "datasource.inputs.sort_filelist = True\n",
    "\n",
    "\"\"\"\n",
    "An inputnode is used to pass the data obtained by the data grabber to the actual processing functions\n",
    "\"\"\"\n",
    "\n",
    "inputnode = pe.Node(interface=util.IdentityInterface(fields=[\"dwi\", \"bvecs\", \"bvals\"]), name=\"inputnode\")"
   ]
  },
  {
   "cell_type": "markdown",
   "metadata": {},
   "source": [
    "#### Set up the diffusion processing"
   ]
  },
  {
   "cell_type": "code",
   "execution_count": 31,
   "metadata": {
    "collapsed": false
   },
   "outputs": [],
   "source": [
    "\"\"\"\n",
    "Diffusion processing nodes\n",
    "--------------------------\n",
    "\n",
    ".. seealso::\n",
    "\n",
    "    dmri_connectivity_advanced.py\n",
    "        Tutorial with further detail on using MRtrix tractography for connectivity analysis\n",
    "\n",
    "    http://www.brain.org.au/software/mrtrix/index.html\n",
    "        MRtrix's online documentation\n",
    "\n",
    "b-values and b-vectors stored in FSL's format are converted into a single encoding file for MRTrix.\n",
    "\"\"\"\n",
    "\n",
    "fsl2mrtrix = pe.Node(interface=mrtrix.FSL2MRTrix(),name='fsl2mrtrix')\n",
    "\n",
    "\"\"\"\n",
    "Tensors are fitted to each voxel in the diffusion-weighted image and from these three maps are created:\n",
    "\t* Major eigenvector in each voxel\n",
    "\t* Apparent diffusion coefficient\n",
    "\t* Fractional anisotropy\n",
    "\n",
    "\"\"\"\n",
    "\n",
    "gunzip = pe.Node(interface=misc.Gunzip(), name='gunzip')\n",
    "dwi2tensor = pe.Node(interface=mrtrix.DWI2Tensor(),name='dwi2tensor')\n",
    "tensor2vector = pe.Node(interface=mrtrix.Tensor2Vector(),name='tensor2vector')\n",
    "tensor2adc = pe.Node(interface=mrtrix.Tensor2ApparentDiffusion(),name='tensor2adc')\n",
    "tensor2fa = pe.Node(interface=mrtrix.Tensor2FractionalAnisotropy(),name='tensor2fa')\n",
    "\n",
    "\"\"\"\n",
    "These nodes are used to create a rough brain mask from the b0 image.\n",
    "The b0 image is extracted from the original diffusion-weighted image,\n",
    "put through a simple thresholding routine, and smoothed using a 3x3 median filter.\n",
    "\"\"\"\n",
    "\n",
    "MRconvert = pe.Node(interface=mrtrix.MRConvert(),name='MRconvert')\n",
    "MRconvert.inputs.extract_at_axis = 3\n",
    "MRconvert.inputs.extract_at_coordinate = [0]\n",
    "threshold_b0 = pe.Node(interface=mrtrix.Threshold(),name='threshold_b0')\n",
    "median3d = pe.Node(interface=mrtrix.MedianFilter3D(),name='median3d')\n",
    "\n",
    "\"\"\"\n",
    "The brain mask is also used to help identify single-fiber voxels.\n",
    "This is done by passing the brain mask through two erosion steps,\n",
    "multiplying the remaining mask with the fractional anisotropy map, and\n",
    "thresholding the result to obtain some highly anisotropic within-brain voxels.\n",
    "\"\"\"\n",
    "\n",
    "erode_mask_firstpass = pe.Node(interface=mrtrix.Erode(),name='erode_mask_firstpass')\n",
    "erode_mask_secondpass = pe.Node(interface=mrtrix.Erode(),name='erode_mask_secondpass')\n",
    "MRmultiply = pe.Node(interface=mrtrix.MRMultiply(),name='MRmultiply')\n",
    "MRmult_merge = pe.Node(interface=util.Merge(2), name=\"MRmultiply_merge\")\n",
    "threshold_FA = pe.Node(interface=mrtrix.Threshold(),name='threshold_FA')\n",
    "threshold_FA.inputs.absolute_threshold_value = 0.7\n",
    "\n",
    "\"\"\"\n",
    "For whole-brain tracking we also require a broad white-matter seed mask.\n",
    "This is created by generating a white matter mask, given a brainmask, and\n",
    "thresholding it at a reasonably high level.\n",
    "\"\"\"\n",
    "\n",
    "bet = pe.Node(interface=fsl.BET(mask = True), name = 'bet_b0')\n",
    "gen_WM_mask = pe.Node(interface=mrtrix.GenerateWhiteMatterMask(),name='gen_WM_mask')\n",
    "threshold_wmmask = pe.Node(interface=mrtrix.Threshold(),name='threshold_wmmask')\n",
    "threshold_wmmask.inputs.absolute_threshold_value = 0.4\n",
    "\n",
    "\"\"\"\n",
    "The spherical deconvolution step depends on the estimate of the response function\n",
    "in the highly anisotropic voxels we obtained above.\n",
    "\n",
    ".. warning::\n",
    "\n",
    "    For damaged or pathological brains one should take care to lower the maximum harmonic order of these steps.\n",
    "\n",
    "\"\"\"\n",
    "\n",
    "estimateresponse = pe.Node(interface=mrtrix.EstimateResponseForSH(),name='estimateresponse')\n",
    "estimateresponse.inputs.maximum_harmonic_order = 6\n",
    "csdeconv = pe.Node(interface=mrtrix.ConstrainedSphericalDeconvolution(),name='csdeconv')\n",
    "csdeconv.inputs.maximum_harmonic_order = 6\n",
    "\n",
    "\"\"\"\n",
    "Finally, we track probabilistically using the orientation distribution functions obtained earlier.\n",
    "The tracts are then used to generate a tract-density image, and they are also converted to TrackVis format.\n",
    "\"\"\"\n",
    "\n",
    "probCSDstreamtrack = pe.Node(interface=mrtrix.ProbabilisticSphericallyDeconvolutedStreamlineTrack(),name='probCSDstreamtrack')\n",
    "probCSDstreamtrack.inputs.inputmodel = 'SD_PROB'\n",
    "probCSDstreamtrack.inputs.desired_number_of_tracks = 100000 # more (~5m) is better, but is too much for trackvis: see http://www.nitrc.org/pipermail/mrtrix-discussion/2012-December/000604.html\n",
    "#probCSDstreamtrack.inputs.desired_number_of_tracks =  10000 # minimum in Farquharson et al. 2014 (but ROI to ROI, not whole brain)\n",
    "probCSDstreamtrack.inputs.minimum_radius_of_curvature = 0.27 # r=0.27 => angle=43.5° (Judith wants ~45°); see http://www.nitrc.org/pipermail/mrtrix-discussion/2011-June/000230.html\n",
    "tracks2prob = pe.Node(interface=mrtrix.Tracks2Prob(),name='tracks2prob')\n",
    "tracks2prob.inputs.colour = True\n",
    "tck2trk = pe.Node(interface=mrtrix.MRTrix2TrackVis(),name='tck2trk')\n",
    "tck2trk.inputs.out_filename = 'mrtrix_probCSD.trk'"
   ]
  },
  {
   "cell_type": "code",
   "execution_count": 32,
   "metadata": {
    "collapsed": true
   },
   "outputs": [],
   "source": [
    "#Node: Datasink - Create a datasink node to store important outputs\n",
    "datasink = pe.Node(interface=nio.DataSink(), name=\"mrtrix\")\n",
    "datasink.inputs.base_directory = out_dir"
   ]
  },
  {
   "cell_type": "markdown",
   "metadata": {},
   "source": [
    "#### Connect and run the workflow"
   ]
  },
  {
   "cell_type": "code",
   "execution_count": 33,
   "metadata": {
    "collapsed": false,
    "scrolled": true
   },
   "outputs": [
    {
     "name": "stderr",
     "output_type": "stream",
     "text": [
      "INFO:workflow:['check', 'execution', 'logging']\n"
     ]
    },
    {
     "ename": "OSError",
     "evalue": "[Errno 6] Device not configured: '/Users/kevinsitek/om/om/user/ksitek/exvivo/mrtrix/dwiproc'",
     "output_type": "error",
     "traceback": [
      "\u001b[0;31m---------------------------------------------------------------------------\u001b[0m",
      "\u001b[0;31mOSError\u001b[0m                                   Traceback (most recent call last)",
      "\u001b[0;32m<ipython-input-33-e53f16e6c409>\u001b[0m in \u001b[0;36m<module>\u001b[0;34m()\u001b[0m\n\u001b[1;32m     93\u001b[0m                 ])\n\u001b[1;32m     94\u001b[0m \u001b[0;34m\u001b[0m\u001b[0m\n\u001b[0;32m---> 95\u001b[0;31m \u001b[0mdwiproc\u001b[0m\u001b[0;34m.\u001b[0m\u001b[0mrun\u001b[0m\u001b[0;34m(\u001b[0m\u001b[0;34m)\u001b[0m\u001b[0;34m;\u001b[0m\u001b[0;34m\u001b[0m\u001b[0m\n\u001b[0m\u001b[1;32m     96\u001b[0m \u001b[0;31m#dwiproc.write_graph();\u001b[0m\u001b[0;34m\u001b[0m\u001b[0;34m\u001b[0m\u001b[0m\n",
      "\u001b[0;32m/Users/kevinsitek/miniconda/lib/python2.7/site-packages/nipype/pipeline/engine.pyc\u001b[0m in \u001b[0;36mrun\u001b[0;34m(self, plugin, plugin_args, updatehash)\u001b[0m\n\u001b[1;32m    698\u001b[0m         \u001b[0mself\u001b[0m\u001b[0;34m.\u001b[0m\u001b[0m_configure_exec_nodes\u001b[0m\u001b[0;34m(\u001b[0m\u001b[0mexecgraph\u001b[0m\u001b[0;34m)\u001b[0m\u001b[0;34m\u001b[0m\u001b[0m\n\u001b[1;32m    699\u001b[0m         \u001b[0;32mif\u001b[0m \u001b[0mstr2bool\u001b[0m\u001b[0;34m(\u001b[0m\u001b[0mself\u001b[0m\u001b[0;34m.\u001b[0m\u001b[0mconfig\u001b[0m\u001b[0;34m[\u001b[0m\u001b[0;34m'execution'\u001b[0m\u001b[0;34m]\u001b[0m\u001b[0;34m[\u001b[0m\u001b[0;34m'create_report'\u001b[0m\u001b[0;34m]\u001b[0m\u001b[0;34m)\u001b[0m\u001b[0;34m:\u001b[0m\u001b[0;34m\u001b[0m\u001b[0m\n\u001b[0;32m--> 700\u001b[0;31m             \u001b[0mself\u001b[0m\u001b[0;34m.\u001b[0m\u001b[0m_write_report_info\u001b[0m\u001b[0;34m(\u001b[0m\u001b[0mself\u001b[0m\u001b[0;34m.\u001b[0m\u001b[0mbase_dir\u001b[0m\u001b[0;34m,\u001b[0m \u001b[0mself\u001b[0m\u001b[0;34m.\u001b[0m\u001b[0mname\u001b[0m\u001b[0;34m,\u001b[0m \u001b[0mexecgraph\u001b[0m\u001b[0;34m)\u001b[0m\u001b[0;34m\u001b[0m\u001b[0m\n\u001b[0m\u001b[1;32m    701\u001b[0m         \u001b[0mrunner\u001b[0m\u001b[0;34m.\u001b[0m\u001b[0mrun\u001b[0m\u001b[0;34m(\u001b[0m\u001b[0mexecgraph\u001b[0m\u001b[0;34m,\u001b[0m \u001b[0mupdatehash\u001b[0m\u001b[0;34m=\u001b[0m\u001b[0mupdatehash\u001b[0m\u001b[0;34m,\u001b[0m \u001b[0mconfig\u001b[0m\u001b[0;34m=\u001b[0m\u001b[0mself\u001b[0m\u001b[0;34m.\u001b[0m\u001b[0mconfig\u001b[0m\u001b[0;34m)\u001b[0m\u001b[0;34m\u001b[0m\u001b[0m\n\u001b[1;32m    702\u001b[0m         \u001b[0mdatestr\u001b[0m \u001b[0;34m=\u001b[0m \u001b[0mdatetime\u001b[0m\u001b[0;34m.\u001b[0m\u001b[0mutcnow\u001b[0m\u001b[0;34m(\u001b[0m\u001b[0;34m)\u001b[0m\u001b[0;34m.\u001b[0m\u001b[0mstrftime\u001b[0m\u001b[0;34m(\u001b[0m\u001b[0;34m'%Y%m%dT%H%M%S'\u001b[0m\u001b[0;34m)\u001b[0m\u001b[0;34m\u001b[0m\u001b[0m\n",
      "\u001b[0;32m/Users/kevinsitek/miniconda/lib/python2.7/site-packages/nipype/pipeline/engine.pyc\u001b[0m in \u001b[0;36m_write_report_info\u001b[0;34m(self, workingdir, name, graph)\u001b[0m\n\u001b[1;32m    715\u001b[0m         \u001b[0mreport_dir\u001b[0m \u001b[0;34m=\u001b[0m \u001b[0mop\u001b[0m\u001b[0;34m.\u001b[0m\u001b[0mjoin\u001b[0m\u001b[0;34m(\u001b[0m\u001b[0mworkingdir\u001b[0m\u001b[0;34m,\u001b[0m \u001b[0mname\u001b[0m\u001b[0;34m)\u001b[0m\u001b[0;34m\u001b[0m\u001b[0m\n\u001b[1;32m    716\u001b[0m         \u001b[0;32mif\u001b[0m \u001b[0;32mnot\u001b[0m \u001b[0mop\u001b[0m\u001b[0;34m.\u001b[0m\u001b[0mexists\u001b[0m\u001b[0;34m(\u001b[0m\u001b[0mreport_dir\u001b[0m\u001b[0;34m)\u001b[0m\u001b[0;34m:\u001b[0m\u001b[0;34m\u001b[0m\u001b[0m\n\u001b[0;32m--> 717\u001b[0;31m             \u001b[0mos\u001b[0m\u001b[0;34m.\u001b[0m\u001b[0mmakedirs\u001b[0m\u001b[0;34m(\u001b[0m\u001b[0mreport_dir\u001b[0m\u001b[0;34m)\u001b[0m\u001b[0;34m\u001b[0m\u001b[0m\n\u001b[0m\u001b[1;32m    718\u001b[0m         shutil.copyfile(op.join(op.dirname(__file__),\n\u001b[1;32m    719\u001b[0m                                      'report_template.html'),\n",
      "\u001b[0;32m/Users/kevinsitek/miniconda/lib/python2.7/os.pyc\u001b[0m in \u001b[0;36mmakedirs\u001b[0;34m(name, mode)\u001b[0m\n\u001b[1;32m    155\u001b[0m         \u001b[0;32mif\u001b[0m \u001b[0mtail\u001b[0m \u001b[0;34m==\u001b[0m \u001b[0mcurdir\u001b[0m\u001b[0;34m:\u001b[0m           \u001b[0;31m# xxx/newdir/. exists if xxx/newdir exists\u001b[0m\u001b[0;34m\u001b[0m\u001b[0m\n\u001b[1;32m    156\u001b[0m             \u001b[0;32mreturn\u001b[0m\u001b[0;34m\u001b[0m\u001b[0m\n\u001b[0;32m--> 157\u001b[0;31m     \u001b[0mmkdir\u001b[0m\u001b[0;34m(\u001b[0m\u001b[0mname\u001b[0m\u001b[0;34m,\u001b[0m \u001b[0mmode\u001b[0m\u001b[0;34m)\u001b[0m\u001b[0;34m\u001b[0m\u001b[0m\n\u001b[0m\u001b[1;32m    158\u001b[0m \u001b[0;34m\u001b[0m\u001b[0m\n\u001b[1;32m    159\u001b[0m \u001b[0;32mdef\u001b[0m \u001b[0mremovedirs\u001b[0m\u001b[0;34m(\u001b[0m\u001b[0mname\u001b[0m\u001b[0;34m)\u001b[0m\u001b[0;34m:\u001b[0m\u001b[0;34m\u001b[0m\u001b[0m\n",
      "\u001b[0;31mOSError\u001b[0m: [Errno 6] Device not configured: '/Users/kevinsitek/om/om/user/ksitek/exvivo/mrtrix/dwiproc'"
     ]
    }
   ],
   "source": [
    "\"\"\"\n",
    "Creating the workflow\n",
    "---------------------\n",
    "In this section we connect the nodes for the diffusion processing.\n",
    "\"\"\"\n",
    "\n",
    "tractography = pe.Workflow(name='tractography')\n",
    "\n",
    "tractography.connect([(inputnode, fsl2mrtrix, [(\"bvecs\", \"bvec_file\"),\n",
    "\t\t\t\t\t\t\t\t\t\t\t\t(\"bvals\", \"bval_file\")])])\n",
    "tractography.connect([(inputnode, gunzip,[(\"dwi\",\"in_file\")])])\n",
    "tractography.connect([(gunzip, dwi2tensor,[(\"out_file\",\"in_file\")])])\n",
    "tractography.connect([(fsl2mrtrix, dwi2tensor,[(\"encoding_file\",\"encoding_file\")])])\n",
    "\n",
    "tractography.connect([(dwi2tensor, tensor2vector,[['tensor','in_file']]),\n",
    "\t\t\t\t\t   (dwi2tensor, tensor2adc,[['tensor','in_file']]),\n",
    "\t\t\t\t\t   (dwi2tensor, tensor2fa,[['tensor','in_file']]),\n",
    "\t\t\t\t\t  ])\n",
    "tractography.connect([(tensor2fa, MRmult_merge,[(\"FA\",\"in1\")])])\n",
    "\n",
    "\"\"\"\n",
    "This block creates the rough brain mask to be multiplied, mulitplies it with the\n",
    "fractional anisotropy image, and thresholds it to get the single-fiber voxels.\n",
    "\"\"\"\n",
    "\n",
    "tractography.connect([(gunzip, MRconvert,[(\"out_file\",\"in_file\")])])\n",
    "tractography.connect([(MRconvert, threshold_b0,[(\"converted\",\"in_file\")])])\n",
    "tractography.connect([(threshold_b0, median3d,[(\"out_file\",\"in_file\")])])\n",
    "tractography.connect([(median3d, erode_mask_firstpass,[(\"out_file\",\"in_file\")])])\n",
    "tractography.connect([(erode_mask_firstpass, erode_mask_secondpass,[(\"out_file\",\"in_file\")])])\n",
    "tractography.connect([(erode_mask_secondpass, MRmult_merge,[(\"out_file\",\"in2\")])])\n",
    "tractography.connect([(MRmult_merge, MRmultiply,[(\"out\",\"in_files\")])])\n",
    "tractography.connect([(MRmultiply, threshold_FA,[(\"out_file\",\"in_file\")])])\n",
    "\n",
    "\"\"\"\n",
    "Here the thresholded white matter mask is created for seeding the tractography.\n",
    "\"\"\"\n",
    "\n",
    "tractography.connect([(gunzip, bet,[(\"out_file\",\"in_file\")])])\n",
    "tractography.connect([(gunzip, gen_WM_mask,[(\"out_file\",\"in_file\")])])\n",
    "tractography.connect([(bet, gen_WM_mask,[(\"mask_file\",\"binary_mask\")])])\n",
    "tractography.connect([(fsl2mrtrix, gen_WM_mask,[(\"encoding_file\",\"encoding_file\")])])\n",
    "tractography.connect([(gen_WM_mask, threshold_wmmask,[(\"WMprobabilitymap\",\"in_file\")])])\n",
    "\n",
    "\"\"\"\n",
    "Next we estimate the fiber response distribution.\n",
    "\"\"\"\n",
    "\n",
    "tractography.connect([(gunzip, estimateresponse,[(\"out_file\",\"in_file\")])])\n",
    "tractography.connect([(fsl2mrtrix, estimateresponse,[(\"encoding_file\",\"encoding_file\")])])\n",
    "tractography.connect([(threshold_FA, estimateresponse,[(\"out_file\",\"mask_image\")])])\n",
    "\n",
    "\"\"\"\n",
    "Run constrained spherical deconvolution.\n",
    "\"\"\"\n",
    "\n",
    "tractography.connect([(gunzip, csdeconv,[(\"out_file\",\"in_file\")])])\n",
    "tractography.connect([(gen_WM_mask, csdeconv,[(\"WMprobabilitymap\",\"mask_image\")])])\n",
    "tractography.connect([(estimateresponse, csdeconv,[(\"response\",\"response_file\")])])\n",
    "tractography.connect([(fsl2mrtrix, csdeconv,[(\"encoding_file\",\"encoding_file\")])])\n",
    "\n",
    "\"\"\"\n",
    "Connect the tractography and compute the tract density image.\n",
    "\"\"\"\n",
    "\n",
    "tractography.connect([(threshold_wmmask, probCSDstreamtrack,[(\"out_file\",\"seed_file\")])])\n",
    "tractography.connect([(csdeconv, probCSDstreamtrack,[(\"spherical_harmonics_image\",\"in_file\")])])\n",
    "tractography.connect([(probCSDstreamtrack, tracks2prob,[(\"tracked\",\"in_file\")])])\n",
    "tractography.connect([(gunzip, tracks2prob,[(\"out_file\",\"template_file\")])])\n",
    "\n",
    "tractography.connect([(gunzip, tck2trk,[(\"out_file\",\"image_file\")])])\n",
    "tractography.connect([(probCSDstreamtrack, tck2trk,[(\"tracked\",\"in_file\")])])\n",
    "\n",
    "# send the trk to the data sink\n",
    "tractography.connect([(tck2trk,datasink,[('out_file','trk')])])\n",
    "\n",
    "\"\"\"\n",
    "Finally, we create another higher-level workflow to connect our tractography workflow with the info and datagrabbing nodes\n",
    "declared at the beginning. Our tutorial is now extensible to any arbitrary number of subjects by simply adding\n",
    "their names to the subject list and their data to the proper folders.\n",
    "\"\"\"\n",
    "\n",
    "dwiproc = pe.Workflow(name=\"dwiproc\")\n",
    "dwiproc.base_dir = os.path.join(project_dir,'mrtrix')\n",
    "dwiproc.connect([\n",
    "                    (infosource,datasource,[('subject_id', 'subject_id')]),\n",
    "                    (datasource,tractography,[('dwi','inputnode.dwi'),\n",
    "                                               ('bvals','inputnode.bvals'),\n",
    "                                               ('bvecs','inputnode.bvecs')\n",
    "                                               ]),\n",
    "                    #(infosource,tractography,[('subject_id', 'inputnode.subject_id')])\n",
    "                                               \n",
    "                ])\n",
    "\n",
    "dwiproc.run();\n",
    "#dwiproc.write_graph();"
   ]
  },
  {
   "cell_type": "code",
   "execution_count": null,
   "metadata": {
    "collapsed": false
   },
   "outputs": [],
   "source": []
  }
 ],
 "metadata": {
  "kernelspec": {
   "display_name": "Python 2",
   "language": "python",
   "name": "python2"
  },
  "language_info": {
   "codemirror_mode": {
    "name": "ipython",
    "version": 2
   },
   "file_extension": ".py",
   "mimetype": "text/x-python",
   "name": "python",
   "nbconvert_exporter": "python",
   "pygments_lexer": "ipython2",
   "version": "2.7.11"
  }
 },
 "nbformat": 4,
 "nbformat_minor": 0
}
